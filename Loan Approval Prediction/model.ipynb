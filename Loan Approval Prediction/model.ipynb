{
 "cells": [
  {
   "cell_type": "code",
   "execution_count": 1,
   "id": "dcbc3c37-6c79-4a40-8755-c48163f2201e",
   "metadata": {},
   "outputs": [],
   "source": [
    "import pandas as pd\n",
    "import numpy as np\n",
    "import matplotlib.pyplot as plt\n",
    "from sklearn.model_selection import train_test_split\n",
    "from sklearn.metrics import confusion_matrix,classification_report,accuracy_score,ConfusionMatrixDisplay\n",
    "from sklearn.tree import DecisionTreeClassifier\n",
    "from sklearn.linear_model import LogisticRegression\n",
    "from sklearn.ensemble import RandomForestClassifier\n",
    "from sklearn.preprocessing import StandardScaler\n"
   ]
  },
  {
   "cell_type": "code",
   "execution_count": 3,
   "id": "328ac47c-dbb6-4461-8281-bc8324efde26",
   "metadata": {},
   "outputs": [],
   "source": [
    "df = pd.read_csv('After_feature_engg.csv')"
   ]
  },
  {
   "cell_type": "code",
   "execution_count": 4,
   "id": "7610c0ac-fa3d-43f6-975d-ae37a6d36e3d",
   "metadata": {},
   "outputs": [],
   "source": [
    "x = df.drop('Loan_Status',axis=1)\n",
    "y = df['Loan_Status']\n",
    "\n",
    "x_train,x_test,y_train,y_test = train_test_split(x,y,test_size=0.2,random_state=42)"
   ]
  },
  {
   "cell_type": "code",
   "execution_count": 5,
   "id": "689539b9-0150-44a0-9dd4-d68bf7065afa",
   "metadata": {},
   "outputs": [
    {
     "data": {
      "text/html": [
       "<div>\n",
       "<style scoped>\n",
       "    .dataframe tbody tr th:only-of-type {\n",
       "        vertical-align: middle;\n",
       "    }\n",
       "\n",
       "    .dataframe tbody tr th {\n",
       "        vertical-align: top;\n",
       "    }\n",
       "\n",
       "    .dataframe thead th {\n",
       "        text-align: right;\n",
       "    }\n",
       "</style>\n",
       "<table border=\"1\" class=\"dataframe\">\n",
       "  <thead>\n",
       "    <tr style=\"text-align: right;\">\n",
       "      <th></th>\n",
       "      <th>Gender</th>\n",
       "      <th>Married</th>\n",
       "      <th>Education</th>\n",
       "      <th>Self_Employed</th>\n",
       "      <th>Loan_Amount_Term</th>\n",
       "      <th>Credit_History</th>\n",
       "      <th>Loan_Status</th>\n",
       "      <th>Total_Income</th>\n",
       "      <th>LoanAmount_log</th>\n",
       "      <th>Total_Income_log</th>\n",
       "      <th>Property_Area_Semiurban</th>\n",
       "      <th>Property_Area_Urban</th>\n",
       "      <th>Income_category_Low</th>\n",
       "      <th>Income_category_Mid</th>\n",
       "      <th>Income_category_Very High</th>\n",
       "      <th>Dependents_1</th>\n",
       "      <th>Dependents_2</th>\n",
       "      <th>Dependents_3+</th>\n",
       "    </tr>\n",
       "  </thead>\n",
       "  <tbody>\n",
       "    <tr>\n",
       "      <th>0</th>\n",
       "      <td>1</td>\n",
       "      <td>0</td>\n",
       "      <td>0</td>\n",
       "      <td>0</td>\n",
       "      <td>360</td>\n",
       "      <td>1</td>\n",
       "      <td>1</td>\n",
       "      <td>5849.0</td>\n",
       "      <td>4.986426</td>\n",
       "      <td>8.674026</td>\n",
       "      <td>False</td>\n",
       "      <td>True</td>\n",
       "      <td>False</td>\n",
       "      <td>False</td>\n",
       "      <td>False</td>\n",
       "      <td>False</td>\n",
       "      <td>False</td>\n",
       "      <td>False</td>\n",
       "    </tr>\n",
       "    <tr>\n",
       "      <th>1</th>\n",
       "      <td>1</td>\n",
       "      <td>1</td>\n",
       "      <td>0</td>\n",
       "      <td>0</td>\n",
       "      <td>360</td>\n",
       "      <td>1</td>\n",
       "      <td>0</td>\n",
       "      <td>6091.0</td>\n",
       "      <td>4.852030</td>\n",
       "      <td>8.714568</td>\n",
       "      <td>False</td>\n",
       "      <td>False</td>\n",
       "      <td>False</td>\n",
       "      <td>False</td>\n",
       "      <td>True</td>\n",
       "      <td>True</td>\n",
       "      <td>False</td>\n",
       "      <td>False</td>\n",
       "    </tr>\n",
       "    <tr>\n",
       "      <th>2</th>\n",
       "      <td>1</td>\n",
       "      <td>1</td>\n",
       "      <td>0</td>\n",
       "      <td>1</td>\n",
       "      <td>360</td>\n",
       "      <td>1</td>\n",
       "      <td>1</td>\n",
       "      <td>3000.0</td>\n",
       "      <td>4.189655</td>\n",
       "      <td>8.006368</td>\n",
       "      <td>False</td>\n",
       "      <td>True</td>\n",
       "      <td>False</td>\n",
       "      <td>True</td>\n",
       "      <td>False</td>\n",
       "      <td>False</td>\n",
       "      <td>False</td>\n",
       "      <td>False</td>\n",
       "    </tr>\n",
       "    <tr>\n",
       "      <th>3</th>\n",
       "      <td>1</td>\n",
       "      <td>1</td>\n",
       "      <td>1</td>\n",
       "      <td>0</td>\n",
       "      <td>360</td>\n",
       "      <td>1</td>\n",
       "      <td>1</td>\n",
       "      <td>4941.0</td>\n",
       "      <td>4.787492</td>\n",
       "      <td>8.505323</td>\n",
       "      <td>False</td>\n",
       "      <td>True</td>\n",
       "      <td>False</td>\n",
       "      <td>False</td>\n",
       "      <td>False</td>\n",
       "      <td>False</td>\n",
       "      <td>False</td>\n",
       "      <td>False</td>\n",
       "    </tr>\n",
       "    <tr>\n",
       "      <th>4</th>\n",
       "      <td>1</td>\n",
       "      <td>0</td>\n",
       "      <td>0</td>\n",
       "      <td>0</td>\n",
       "      <td>360</td>\n",
       "      <td>1</td>\n",
       "      <td>1</td>\n",
       "      <td>6000.0</td>\n",
       "      <td>4.948760</td>\n",
       "      <td>8.699515</td>\n",
       "      <td>False</td>\n",
       "      <td>True</td>\n",
       "      <td>False</td>\n",
       "      <td>False</td>\n",
       "      <td>True</td>\n",
       "      <td>False</td>\n",
       "      <td>False</td>\n",
       "      <td>False</td>\n",
       "    </tr>\n",
       "  </tbody>\n",
       "</table>\n",
       "</div>"
      ],
      "text/plain": [
       "   Gender  Married  Education  Self_Employed  Loan_Amount_Term  \\\n",
       "0       1        0          0              0               360   \n",
       "1       1        1          0              0               360   \n",
       "2       1        1          0              1               360   \n",
       "3       1        1          1              0               360   \n",
       "4       1        0          0              0               360   \n",
       "\n",
       "   Credit_History  Loan_Status  Total_Income  LoanAmount_log  \\\n",
       "0               1            1        5849.0        4.986426   \n",
       "1               1            0        6091.0        4.852030   \n",
       "2               1            1        3000.0        4.189655   \n",
       "3               1            1        4941.0        4.787492   \n",
       "4               1            1        6000.0        4.948760   \n",
       "\n",
       "   Total_Income_log  Property_Area_Semiurban  Property_Area_Urban  \\\n",
       "0          8.674026                    False                 True   \n",
       "1          8.714568                    False                False   \n",
       "2          8.006368                    False                 True   \n",
       "3          8.505323                    False                 True   \n",
       "4          8.699515                    False                 True   \n",
       "\n",
       "   Income_category_Low  Income_category_Mid  Income_category_Very High  \\\n",
       "0                False                False                      False   \n",
       "1                False                False                       True   \n",
       "2                False                 True                      False   \n",
       "3                False                False                      False   \n",
       "4                False                False                       True   \n",
       "\n",
       "   Dependents_1  Dependents_2  Dependents_3+  \n",
       "0         False         False          False  \n",
       "1          True         False          False  \n",
       "2         False         False          False  \n",
       "3         False         False          False  \n",
       "4         False         False          False  "
      ]
     },
     "execution_count": 5,
     "metadata": {},
     "output_type": "execute_result"
    }
   ],
   "source": [
    "df.head()"
   ]
  },
  {
   "cell_type": "code",
   "execution_count": 6,
   "id": "b0b0a3c6-b50d-47c2-8f4f-d319c401b40d",
   "metadata": {},
   "outputs": [],
   "source": [
    "lr_model = LogisticRegression(max_iter=4000)\n",
    "lr_model.fit(x_train, y_train)\n",
    "lr_pred = lr_model.predict(x_test)\n"
   ]
  },
  {
   "cell_type": "code",
   "execution_count": 7,
   "id": "d6df3252-1c49-4fb3-bbaa-57e2d97ea321",
   "metadata": {},
   "outputs": [],
   "source": [
    "dt_model = DecisionTreeClassifier(random_state=42)\n",
    "dt_model.fit(x_train, y_train)\n",
    "dt_pred = dt_model.predict(x_test)\n"
   ]
  },
  {
   "cell_type": "code",
   "execution_count": 8,
   "id": "93fd57ee-94e6-4d03-bea1-e6364996df30",
   "metadata": {},
   "outputs": [],
   "source": [
    "rf_model = RandomForestClassifier(n_estimators=100, random_state=42)\n",
    "rf_model.fit(x_train, y_train)\n",
    "rf_pred = rf_model.predict(x_test)\n"
   ]
  },
  {
   "cell_type": "code",
   "execution_count": 9,
   "id": "8d13fe40-9028-448e-b988-8449d7b17ab4",
   "metadata": {},
   "outputs": [
    {
     "name": "stdout",
     "output_type": "stream",
     "text": [
      "\n",
      "📊 Logistic Regression Performance:\n",
      "Confusion Matrix:\n",
      " [[19 24]\n",
      " [ 3 77]]\n",
      "Accuracy: 0.7804878048780488\n",
      "Classification Report:\n",
      "               precision    recall  f1-score   support\n",
      "\n",
      "           0       0.86      0.44      0.58        43\n",
      "           1       0.76      0.96      0.85        80\n",
      "\n",
      "    accuracy                           0.78       123\n",
      "   macro avg       0.81      0.70      0.72       123\n",
      "weighted avg       0.80      0.78      0.76       123\n",
      "\n",
      "\n",
      "📊 Decision Tree Performance:\n",
      "Confusion Matrix:\n",
      " [[24 19]\n",
      " [21 59]]\n",
      "Accuracy: 0.6747967479674797\n",
      "Classification Report:\n",
      "               precision    recall  f1-score   support\n",
      "\n",
      "           0       0.53      0.56      0.55        43\n",
      "           1       0.76      0.74      0.75        80\n",
      "\n",
      "    accuracy                           0.67       123\n",
      "   macro avg       0.64      0.65      0.65       123\n",
      "weighted avg       0.68      0.67      0.68       123\n",
      "\n",
      "\n",
      "📊 Random Forest Performance:\n",
      "Confusion Matrix:\n",
      " [[21 22]\n",
      " [ 4 76]]\n",
      "Accuracy: 0.7886178861788617\n",
      "Classification Report:\n",
      "               precision    recall  f1-score   support\n",
      "\n",
      "           0       0.84      0.49      0.62        43\n",
      "           1       0.78      0.95      0.85        80\n",
      "\n",
      "    accuracy                           0.79       123\n",
      "   macro avg       0.81      0.72      0.74       123\n",
      "weighted avg       0.80      0.79      0.77       123\n",
      "\n"
     ]
    }
   ],
   "source": [
    "def evaluate_model(y_true, y_pred, model_name):\n",
    "    print(f\"\\n📊 {model_name} Performance:\")\n",
    "    print(\"Confusion Matrix:\\n\", confusion_matrix(y_true, y_pred))\n",
    "    print(\"Accuracy:\", accuracy_score(y_true, y_pred))\n",
    "    print(\"Classification Report:\\n\", classification_report(y_true, y_pred))\n",
    "\n",
    "evaluate_model(y_test, lr_pred, \"Logistic Regression\")\n",
    "evaluate_model(y_test, dt_pred, \"Decision Tree\")\n",
    "evaluate_model(y_test, rf_pred, \"Random Forest\")\n"
   ]
  },
  {
   "cell_type": "code",
   "execution_count": 10,
   "id": "bbe459c1-09c4-4d42-b36a-f212b5edf697",
   "metadata": {},
   "outputs": [
    {
     "name": "stdout",
     "output_type": "stream",
     "text": [
      "\n",
      "🔍 Evaluation Report for Logistic Regression\n",
      "Accuracy: 0.7804878048780488\n",
      "\n",
      "Classification Report:\n",
      "               precision    recall  f1-score   support\n",
      "\n",
      "           0       0.86      0.44      0.58        43\n",
      "           1       0.76      0.96      0.85        80\n",
      "\n",
      "    accuracy                           0.78       123\n",
      "   macro avg       0.81      0.70      0.72       123\n",
      "weighted avg       0.80      0.78      0.76       123\n",
      "\n"
     ]
    },
    {
     "data": {
      "image/png": "[encoded data removed]",
      "text/plain": [
       "<Figure size 640x480 with 2 Axes>"
      ]
     },
     "metadata": {},
     "output_type": "display_data"
    },
    {
     "name": "stdout",
     "output_type": "stream",
     "text": [
      "\n",
      "🔍 Evaluation Report for Decision Tree\n",
      "Accuracy: 0.6747967479674797\n",
      "\n",
      "Classification Report:\n",
      "               precision    recall  f1-score   support\n",
      "\n",
      "           0       0.53      0.56      0.55        43\n",
      "           1       0.76      0.74      0.75        80\n",
      "\n",
      "    accuracy                           0.67       123\n",
      "   macro avg       0.64      0.65      0.65       123\n",
      "weighted avg       0.68      0.67      0.68       123\n",
      "\n"
     ]
    },
    {
     "data": {
      "image/png": "[encoded data removed]",
      "text/plain": [
       "<Figure size 640x480 with 2 Axes>"
      ]
     },
     "metadata": {},
     "output_type": "display_data"
    },
    {
     "name": "stdout",
     "output_type": "stream",
     "text": [
      "\n",
      "🔍 Evaluation Report for Random Forest\n",
      "Accuracy: 0.7886178861788617\n",
      "\n",
      "Classification Report:\n",
      "               precision    recall  f1-score   support\n",
      "\n",
      "           0       0.84      0.49      0.62        43\n",
      "           1       0.78      0.95      0.85        80\n",
      "\n",
      "    accuracy                           0.79       123\n",
      "   macro avg       0.81      0.72      0.74       123\n",
      "weighted avg       0.80      0.79      0.77       123\n",
      "\n"
     ]
    },
    {
     "data": {
      "image/png": "[encoded data removed]",
      "text/plain": [
       "<Figure size 640x480 with 2 Axes>"
      ]
     },
     "metadata": {},
     "output_type": "display_data"
    }
   ],
   "source": [
    "\n",
    "# Function to evaluate and plot confusion matrix\n",
    "def evaluate_and_plot(y_true, y_pred, model_name):\n",
    "    # Confusion Matrix\n",
    "    cm = confusion_matrix(y_true, y_pred)\n",
    "    disp = ConfusionMatrixDisplay(confusion_matrix=cm)\n",
    "    \n",
    "    print(f\"\\n🔍 Evaluation Report for {model_name}\")\n",
    "    print(\"Accuracy:\", accuracy_score(y_true, y_pred))\n",
    "    print(\"\\nClassification Report:\\n\", classification_report(y_true, y_pred))\n",
    "    \n",
    "    # Plot Confusion Matrix\n",
    "    disp.plot(cmap=plt.cm.Blues)\n",
    "    plt.title(f'Confusion Matrix - {model_name}')\n",
    "    plt.show()\n",
    "\n",
    "# Call for each model\n",
    "evaluate_and_plot(y_test, lr_pred, \"Logistic Regression\")\n",
    "evaluate_and_plot(y_test, dt_pred, \"Decision Tree\")\n",
    "evaluate_and_plot(y_test, rf_pred, \"Random Forest\")"
   ]
  },
  {
   "cell_type": "code",
   "execution_count": 12,
   "id": "d59c8a7c-ba42-4128-8f8b-b25367110fd3",
   "metadata": {},
   "outputs": [
    {
     "data": {
      "text/plain": [
       "['loan_approval_rf_model.pkl']"
      ]
     },
     "execution_count": 12,
     "metadata": {},
     "output_type": "execute_result"
    }
   ],
   "source": [
    "# Save the feature column names\n",
    "import joblib\n",
    "joblib.dump(list(x.columns), 'feature_columns.pkl')\n",
    "joblib.dump(rf_model, 'loan_approval_rf_model.pkl')\n"
   ]
  },
  {
   "cell_type": "code",
   "execution_count": null,
   "id": "54446504-7f9e-4fb5-af4c-aa24e7213c6e",
   "metadata": {},
   "outputs": [],
   "source": [
    "!streamlit run app.py"
   ]
  },
  {
   "cell_type": "code",
   "execution_count": null,
   "id": "791987f3-d657-4db1-97d7-f20689370a29",
   "metadata": {},
   "outputs": [],
   "source": [
    "!streamlit run app2.py"
   ]
  }
 ],
 "metadata": {
  "kernelspec": {
   "display_name": "Python 3 (ipykernel)",
   "language": "python",
   "name": "python3"
  },
  "language_info": {
   "codemirror_mode": {
    "name": "ipython",
    "version": 3
   },
   "file_extension": ".py",
   "mimetype": "text/x-python",
   "name": "python",
   "nbconvert_exporter": "python",
   "pygments_lexer": "ipython3",
   "version": "3.12.7"
  }
 },
 "nbformat": 4,
 "nbformat_minor": 5
}
