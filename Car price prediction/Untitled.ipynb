{
 "cells": [
  {
   "cell_type": "code",
   "execution_count": 17,
   "id": "3c6827a5-3907-4c4e-b533-d214b77a5814",
   "metadata": {},
   "outputs": [
    {
     "name": "stdout",
     "output_type": "stream",
     "text": [
      "After cleaning: 4009 valid price entries.\n"
     ]
    },
    {
     "name": "stderr",
     "output_type": "stream",
     "text": [
      "<>:35: SyntaxWarning: invalid escape sequence '\\$'\n",
      "<>:35: SyntaxWarning: invalid escape sequence '\\$'\n",
      "C:\\Users\\Pratik\\AppData\\Local\\Temp\\ipykernel_21304\\1491649718.py:35: SyntaxWarning: invalid escape sequence '\\$'\n",
      "  df['price'] = df['price'].replace('[\\$,]', '', regex=True)  # Remove symbols\n",
      "C:\\Users\\Pratik\\AppData\\Local\\Temp\\ipykernel_21304\\1491649718.py:6: FutureWarning: A value is trying to be set on a copy of a DataFrame or Series through chained assignment using an inplace method.\n",
      "The behavior will change in pandas 3.0. This inplace method will never work because the intermediate object on which we are setting values always behaves as a copy.\n",
      "\n",
      "For example, when doing 'df[col].method(value, inplace=True)', try using 'df.method({col: value}, inplace=True)' or df[col] = df[col].method(value) instead, to perform the operation inplace on the original object.\n",
      "\n",
      "\n",
      "  df['fuel_type'].fillna(df['fuel_type'].mode()[0], inplace=True)\n",
      "C:\\Users\\Pratik\\AppData\\Local\\Temp\\ipykernel_21304\\1491649718.py:7: FutureWarning: A value is trying to be set on a copy of a DataFrame or Series through chained assignment using an inplace method.\n",
      "The behavior will change in pandas 3.0. This inplace method will never work because the intermediate object on which we are setting values always behaves as a copy.\n",
      "\n",
      "For example, when doing 'df[col].method(value, inplace=True)', try using 'df.method({col: value}, inplace=True)' or df[col] = df[col].method(value) instead, to perform the operation inplace on the original object.\n",
      "\n",
      "\n",
      "  df['accident'].fillna(\"None reported\", inplace=True)\n",
      "C:\\Users\\Pratik\\AppData\\Local\\Temp\\ipykernel_21304\\1491649718.py:8: FutureWarning: A value is trying to be set on a copy of a DataFrame or Series through chained assignment using an inplace method.\n",
      "The behavior will change in pandas 3.0. This inplace method will never work because the intermediate object on which we are setting values always behaves as a copy.\n",
      "\n",
      "For example, when doing 'df[col].method(value, inplace=True)', try using 'df.method({col: value}, inplace=True)' or df[col] = df[col].method(value) instead, to perform the operation inplace on the original object.\n",
      "\n",
      "\n",
      "  df['clean_title'].fillna(\"Yes\", inplace=True)\n"
     ]
    }
   ],
   "source": [
    "# Step 1: Load Dataset\n",
    "import pandas as pd\n",
    "df = pd.read_csv(\"used_cars.csv\")  # Use your actual filename\n",
    "\n",
    "# Step 2: Handle Missing Values\n",
    "df['fuel_type'].fillna(df['fuel_type'].mode()[0], inplace=True)\n",
    "df['accident'].fillna(\"None reported\", inplace=True)\n",
    "df['clean_title'].fillna(\"Yes\", inplace=True)\n",
    "\n",
    "# Step 3: Feature Engineering\n",
    "import numpy as np\n",
    "import re\n",
    "\n",
    "def extract_hp(text):\n",
    "    match = re.search(r\"(\\d+\\.?\\d*)HP\", str(text))\n",
    "    return float(match.group(1)) if match else np.nan\n",
    "\n",
    "def extract_engine_size(text):\n",
    "    match = re.search(r\"(\\d+\\.?\\d*)L\", str(text))\n",
    "    return float(match.group(1)) if match else np.nan\n",
    "\n",
    "df['horsepower'] = df['engine'].apply(extract_hp)\n",
    "df['engine_size_L'] = df['engine'].apply(extract_engine_size)\n",
    "df['car_age'] = 2025 - df['model_year']\n",
    "df['accident_reported'] = df['accident'].apply(lambda x: 0 if 'None' in str(x) else 1)\n",
    "df['clean_title'] = df['clean_title'].apply(lambda x: 1 if x == \"Yes\" else 0)\n",
    "\n",
    "# Step 4: One-Hot Encoding\n",
    "df = pd.get_dummies(df, columns=['brand', 'fuel_type', 'transmission'], drop_first=True)\n",
    "\n",
    "# Step 5: Drop Unnecessary Columns\n",
    "df.drop(['model', 'model_year', 'engine', 'accident', 'ext_col', 'int_col'], axis=1, inplace=True)\n",
    "\n",
    "# Step 6: Clean and convert price column\n",
    "df['price'] = df['price'].replace('[\\$,]', '', regex=True)  # Remove symbols\n",
    "df['price'] = pd.to_numeric(df['price'], errors='coerce')\n",
    "print(f\"After cleaning: {df['price'].notnull().sum()} valid price entries.\")\n",
    "\n",
    "df = df.dropna(subset=['price'])\n",
    "\n",
    "\n",
    "# Clean 'milage' column\n",
    "df['milage'] = df['milage'].str.replace('mi.', '', regex=False)\n",
    "df['milage'] = df['milage'].str.replace(',', '', regex=False)\n",
    "df['milage'] = pd.to_numeric(df['milage'], errors='coerce')\n",
    "\n",
    "# Drop rows where mileage is missing\n",
    "df = df.dropna(subset=['milage'])\n",
    "# Step 7: Define X and y\n",
    "y = np.log1p(df['price'])\n",
    "X = df.drop(['price'], axis=1)\n",
    "\n",
    "\n",
    "# Step 8: Train/Test Split\n",
    "from sklearn.model_selection import train_test_split\n",
    "X_train, X_test, y_train, y_test = train_test_split(X, y, test_size=0.2, random_state=42)\n"
   ]
  },
  {
   "cell_type": "code",
   "execution_count": 21,
   "id": "289dbc5d-9a08-42f0-9b3a-320f62eff86e",
   "metadata": {},
   "outputs": [
    {
     "name": "stdout",
     "output_type": "stream",
     "text": [
      "\n",
      "🔸 Decision Tree\n",
      "  MAE:  0.32\n",
      "  RMSE: 0.49\n",
      "  R²:   0.6901\n",
      "----------------------------------------\n",
      "\n",
      "🔸 Random Forest\n",
      "  MAE:  0.23\n",
      "  RMSE: 0.37\n",
      "  R²:   0.8256\n",
      "----------------------------------------\n",
      "\n",
      "🔸 XGBoost\n",
      "  MAE:  0.22\n",
      "  RMSE: 0.35\n",
      "  R²:   0.8418\n",
      "----------------------------------------\n"
     ]
    }
   ],
   "source": [
    "from sklearn.linear_model import LinearRegression\n",
    "from sklearn.tree import DecisionTreeRegressor\n",
    "from sklearn.ensemble import RandomForestRegressor\n",
    "from xgboost import XGBRegressor\n",
    "from sklearn.metrics import mean_absolute_error, mean_squared_error, r2_score\n",
    "\n",
    "models = {\n",
    "    \n",
    "    'Decision Tree': DecisionTreeRegressor(random_state=42),\n",
    "    'Random Forest': RandomForestRegressor(n_estimators=100, random_state=42),\n",
    "    'XGBoost': XGBRegressor(n_estimators=100, random_state=42)\n",
    "}\n",
    "\n",
    "def evaluate_model(name, model, X_train, X_test, y_train, y_test):\n",
    "    model.fit(X_train, y_train)\n",
    "    y_pred = model.predict(X_test)\n",
    "    print(f\"\\n🔸 {name}\")\n",
    "    print(f\"  MAE:  {mean_absolute_error(y_test, y_pred):.2f}\")\n",
    "    print(f\"  RMSE: {np.sqrt(mean_squared_error(y_test, y_pred)):.2f}\")\n",
    "    print(f\"  R²:   {r2_score(y_test, y_pred):.4f}\")\n",
    "    print(\"-\" * 40)\n",
    "\n",
    "for name, model in models.items():\n",
    "    evaluate_model(name, model, X_train, X_test, y_train, y_test)\n"
   ]
  },
  {
   "cell_type": "code",
   "execution_count": 23,
   "id": "687ac6cc-4301-4df2-997c-e461e927794a",
   "metadata": {},
   "outputs": [
    {
     "name": "stdout",
     "output_type": "stream",
     "text": [
      "Fitting 3 folds for each of 25 candidates, totalling 75 fits\n",
      "✅ Best Parameters: {'subsample': 1.0, 'reg_lambda': 1.2, 'reg_alpha': 0, 'n_estimators': 300, 'max_depth': 7, 'learning_rate': 0.2, 'gamma': 0, 'colsample_bytree': 0.7}\n"
     ]
    }
   ],
   "source": [
    "from sklearn.model_selection import RandomizedSearchCV\n",
    "\n",
    "param_grid = {\n",
    "    'n_estimators': [100, 200, 300],\n",
    "    'max_depth': [3, 5, 7, 10],\n",
    "    'learning_rate': [0.01, 0.1, 0.2],\n",
    "    'subsample': [0.7, 0.9, 1.0],\n",
    "    'colsample_bytree': [0.7, 0.9, 1.0],\n",
    "    'gamma': [0, 0.1, 0.2],\n",
    "    'reg_alpha': [0, 0.01, 0.1],\n",
    "    'reg_lambda': [0.8, 1.0, 1.2]\n",
    "}\n",
    "\n",
    "xgb = XGBRegressor(objective='reg:squarederror', random_state=42)\n",
    "random_search = RandomizedSearchCV(\n",
    "    estimator=xgb,\n",
    "    param_distributions=param_grid,\n",
    "    n_iter=25,\n",
    "    cv=3,\n",
    "    verbose=1,\n",
    "    scoring='r2',\n",
    "    n_jobs=-1\n",
    ")\n",
    "\n",
    "random_search.fit(X_train, y_train)\n",
    "best_xgb = random_search.best_estimator_\n",
    "print(\"✅ Best Parameters:\", random_search.best_params_)\n"
   ]
  },
  {
   "cell_type": "code",
   "execution_count": 25,
   "id": "2e3da493-82a4-440b-a439-5002afcade5d",
   "metadata": {},
   "outputs": [
    {
     "data": {
      "text/plain": [
       "['feature_columns2.pkl']"
      ]
     },
     "execution_count": 25,
     "metadata": {},
     "output_type": "execute_result"
    }
   ],
   "source": [
    "import joblib\n",
    "joblib.dump(best_xgb, 'xgb_car_price_model2.pkl')\n",
    "joblib.dump(X.columns.tolist(), 'feature_columns2.pkl')\n"
   ]
  },
  {
   "cell_type": "code",
   "execution_count": null,
   "id": "53d46cf0-5fc8-4fb7-a36e-53bab3c79c2e",
   "metadata": {},
   "outputs": [],
   "source": [
    "!streamlit run app2.py"
   ]
  }
 ],
 "metadata": {
  "kernelspec": {
   "display_name": "Python 3 (ipykernel)",
   "language": "python",
   "name": "python3"
  },
  "language_info": {
   "codemirror_mode": {
    "name": "ipython",
    "version": 3
   },
   "file_extension": ".py",
   "mimetype": "text/x-python",
   "name": "python",
   "nbconvert_exporter": "python",
   "pygments_lexer": "ipython3",
   "version": "3.12.7"
  }
 },
 "nbformat": 4,
 "nbformat_minor": 5
}
