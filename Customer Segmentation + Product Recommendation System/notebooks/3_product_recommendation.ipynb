{
 "cells": [
  {
   "cell_type": "code",
   "execution_count": 1,
   "id": "55321572-9388-44bd-8147-3a77b83cdbd4",
   "metadata": {},
   "outputs": [],
   "source": [
    "import pandas as pd\n",
    "import numpy as np\n",
    "from sklearn.metrics.pairwise import cosine_similarity"
   ]
  },
  {
   "cell_type": "code",
   "execution_count": 3,
   "id": "358ab245-fdd1-4de2-85ba-d1de4f648556",
   "metadata": {},
   "outputs": [],
   "source": [
    "user_product = pd.read_csv('../data/customer_segments.csv')\n",
    "user_product.set_index('customer_id',inplace=True)"
   ]
  },
  {
   "cell_type": "code",
   "execution_count": 5,
   "id": "79277404-c5cc-4f39-afbc-49b8c142a4fe",
   "metadata": {},
   "outputs": [
    {
     "data": {
      "text/plain": [
       "(2172, 51)"
      ]
     },
     "execution_count": 5,
     "metadata": {},
     "output_type": "execute_result"
    }
   ],
   "source": [
    "cluster = user_product['cluster']\n",
    "product_matrix = user_product.drop(columns=['cluster'])\n",
    "\n",
    "product_matrix.shape"
   ]
  },
  {
   "cell_type": "code",
   "execution_count": 7,
   "id": "323dbf69-5e6a-44f8-9a58-c1f34fa03712",
   "metadata": {},
   "outputs": [],
   "source": [
    "similarity_matrix = cosine_similarity(product_matrix)"
   ]
  },
  {
   "cell_type": "code",
   "execution_count": 9,
   "id": "8d60c5b7-4ba3-47b6-92da-d70c4ba27edb",
   "metadata": {},
   "outputs": [],
   "source": [
    "similarity_df = pd.DataFrame(similarity_matrix,index=product_matrix.index,columns=product_matrix.index)"
   ]
  },
  {
   "cell_type": "code",
   "execution_count": 21,
   "id": "e75816b1-c5a0-4752-9503-2375ff640d11",
   "metadata": {},
   "outputs": [],
   "source": [
    "def recommend_products_for_customer(customer_id,top_n_similar_users = 5,top_n_products=5):\n",
    "    if customer_id not in similarity_df.index:\n",
    "        print(\"Customer Id not found\")\n",
    "        return[]\n",
    "\n",
    "    similar_users = similarity_df[customer_id].sort_values(ascending=False)[1:top_n_similar_users+1] #Find top similar users\n",
    "    similar_users_products = product_matrix.loc[similar_users.index] #Get products bought by similar users\n",
    "    #Sum product counts and remove already purchased items\n",
    "    product_scores = similar_users_products.sum(axis=0)\n",
    "    already_bought = product_matrix.loc[customer_id]\n",
    "    product_scores = product_scores[already_bought==0]\n",
    "    #Recommend top N products\n",
    "    recommended = product_scores.sort_values(ascending=False).head(top_n_products)\n",
    "    return recommended"
   ]
  },
  {
   "cell_type": "code",
   "execution_count": 23,
   "id": "e8538d56-866a-477f-89ec-bff16ffceeba",
   "metadata": {},
   "outputs": [],
   "source": [
    "sample_customer = product_matrix.index[0]\n",
    "recommendations = recommend_products_for_customer(sample_customer)"
   ]
  },
  {
   "cell_type": "code",
   "execution_count": 25,
   "id": "9f7f3879-ff11-4138-927c-90a8dc297e8c",
   "metadata": {},
   "outputs": [
    {
     "name": "stdout",
     "output_type": "stream",
     "text": [
      "product recommendations for customer 31813:\n",
      "\n",
      "Chips          2\n",
      "Baby Food      0\n",
      "Potatoes       0\n",
      "Lotion         0\n",
      "Mango Drink    0\n",
      "dtype: int64\n"
     ]
    }
   ],
   "source": [
    "print(f'product recommendations for customer {sample_customer}:\\n')\n",
    "print(recommendations)"
   ]
  },
  {
   "cell_type": "code",
   "execution_count": 35,
   "id": "f1cc8c90-8995-4cc0-bd2a-2c27d347d27f",
   "metadata": {},
   "outputs": [
    {
     "name": "stdout",
     "output_type": "stream",
     "text": [
      "\n",
      "🧠 Within-Cluster Recommendations for Customer 31813:\n",
      "\n",
      "Chips          2\n",
      "Baby Food      0\n",
      "Potatoes       0\n",
      "Lotion         0\n",
      "Mango Drink    0\n",
      "dtype: int64\n"
     ]
    }
   ],
   "source": [
    "#recommendations within clusters\n",
    "def recommend_within_cluster(customer_id, top_n_users=5, top_n_products=5):\n",
    "    if customer_id not in cluster.index:\n",
    "        print(\"❌ Customer ID not found.\")\n",
    "        return []\n",
    "\n",
    "    customer_cluster = cluster[customer_id]\n",
    "\n",
    "    # Filter users from same cluster\n",
    "    same_cluster_users = cluster[cluster == customer_cluster].index\n",
    "    cluster_product_matrix = product_matrix.loc[same_cluster_users]\n",
    "    \n",
    "    # Compute similarity within cluster\n",
    "    cluster_similarity = cosine_similarity(cluster_product_matrix)\n",
    "    cluster_sim_df = pd.DataFrame(cluster_similarity,\n",
    "                                  index=same_cluster_users,\n",
    "                                  columns=same_cluster_users)\n",
    "    \n",
    "    # Repeat same steps\n",
    "    similar_users = cluster_sim_df[customer_id].sort_values(ascending=False)[1:top_n_users+1]\n",
    "    similar_users_products = cluster_product_matrix.loc[similar_users.index]\n",
    "    product_scores = similar_users_products.sum(axis=0)\n",
    "    already_bought = cluster_product_matrix.loc[customer_id]\n",
    "    product_scores = product_scores[already_bought == 0]\n",
    "    \n",
    "    recommended = product_scores.sort_values(ascending=False).head(top_n_products)\n",
    "    return recommended\n",
    "\n",
    "# 🧪 Try within-cluster recommendation\n",
    "print(f\"\\n🧠 Within-Cluster Recommendations for Customer {sample_customer}:\\n\")\n",
    "print(recommend_within_cluster(sample_customer))"
   ]
  }
 ],
 "metadata": {
  "kernelspec": {
   "display_name": "Python 3 (ipykernel)",
   "language": "python",
   "name": "python3"
  },
  "language_info": {
   "codemirror_mode": {
    "name": "ipython",
    "version": 3
   },
   "file_extension": ".py",
   "mimetype": "text/x-python",
   "name": "python",
   "nbconvert_exporter": "python",
   "pygments_lexer": "ipython3",
   "version": "3.12.7"
  }
 },
 "nbformat": 4,
 "nbformat_minor": 5
}
