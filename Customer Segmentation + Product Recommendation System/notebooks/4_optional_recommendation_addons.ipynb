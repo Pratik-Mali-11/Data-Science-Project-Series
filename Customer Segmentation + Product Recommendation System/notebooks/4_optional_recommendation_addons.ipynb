{
 "cells": [
  {
   "cell_type": "code",
   "execution_count": 3,
   "id": "25b49c73-6025-42a5-95c4-eea227233257",
   "metadata": {},
   "outputs": [],
   "source": [
    "import pandas as pd\n",
    "import numpy as np\n",
    "import matplotlib.pyplot as plt\n",
    "from datetime import datetime\n",
    "from sklearn.preprocessing import MinMaxScaler"
   ]
  },
  {
   "cell_type": "code",
   "execution_count": 5,
   "id": "d82cfa86-9134-4a78-b25e-683c5412f7ee",
   "metadata": {},
   "outputs": [
    {
     "name": "stdout",
     "output_type": "stream",
     "text": [
      "Merged orders + products data\n"
     ]
    },
    {
     "data": {
      "text/html": [
       "<div>\n",
       "<style scoped>\n",
       "    .dataframe tbody tr th:only-of-type {\n",
       "        vertical-align: middle;\n",
       "    }\n",
       "\n",
       "    .dataframe tbody tr th {\n",
       "        vertical-align: top;\n",
       "    }\n",
       "\n",
       "    .dataframe thead th {\n",
       "        text-align: right;\n",
       "    }\n",
       "</style>\n",
       "<table border=\"1\" class=\"dataframe\">\n",
       "  <thead>\n",
       "    <tr style=\"text-align: right;\">\n",
       "      <th></th>\n",
       "      <th>order_id</th>\n",
       "      <th>product_id</th>\n",
       "      <th>quantity</th>\n",
       "      <th>unit_price</th>\n",
       "      <th>customer_id</th>\n",
       "      <th>order_date</th>\n",
       "      <th>promised_delivery_time</th>\n",
       "      <th>actual_delivery_time</th>\n",
       "      <th>delivery_status</th>\n",
       "      <th>order_total</th>\n",
       "      <th>...</th>\n",
       "      <th>store_id</th>\n",
       "      <th>product_name</th>\n",
       "      <th>category</th>\n",
       "      <th>brand</th>\n",
       "      <th>price</th>\n",
       "      <th>mrp</th>\n",
       "      <th>margin_percentage</th>\n",
       "      <th>shelf_life_days</th>\n",
       "      <th>min_stock_level</th>\n",
       "      <th>max_stock_level</th>\n",
       "    </tr>\n",
       "  </thead>\n",
       "  <tbody>\n",
       "    <tr>\n",
       "      <th>0</th>\n",
       "      <td>1961864118</td>\n",
       "      <td>642612</td>\n",
       "      <td>3</td>\n",
       "      <td>517.03</td>\n",
       "      <td>30065862</td>\n",
       "      <td>2024-07-17 08:34:01</td>\n",
       "      <td>2024-07-17 08:52:01</td>\n",
       "      <td>2024-07-17 08:47:01</td>\n",
       "      <td>On Time</td>\n",
       "      <td>3197.07</td>\n",
       "      <td>...</td>\n",
       "      <td>4771</td>\n",
       "      <td>Pet Treats</td>\n",
       "      <td>Pet Care</td>\n",
       "      <td>Pillay-Ahuja</td>\n",
       "      <td>517.03</td>\n",
       "      <td>795.43</td>\n",
       "      <td>35.0</td>\n",
       "      <td>365</td>\n",
       "      <td>16</td>\n",
       "      <td>57</td>\n",
       "    </tr>\n",
       "    <tr>\n",
       "      <th>1</th>\n",
       "      <td>1549769649</td>\n",
       "      <td>378676</td>\n",
       "      <td>1</td>\n",
       "      <td>881.42</td>\n",
       "      <td>9573071</td>\n",
       "      <td>2024-05-28 13:14:29</td>\n",
       "      <td>2024-05-28 13:25:29</td>\n",
       "      <td>2024-05-28 13:27:29</td>\n",
       "      <td>On Time</td>\n",
       "      <td>976.55</td>\n",
       "      <td>...</td>\n",
       "      <td>7534</td>\n",
       "      <td>Orange Juice</td>\n",
       "      <td>Cold Drinks &amp; Juices</td>\n",
       "      <td>Baral-Kamdar</td>\n",
       "      <td>881.42</td>\n",
       "      <td>1259.17</td>\n",
       "      <td>30.0</td>\n",
       "      <td>180</td>\n",
       "      <td>19</td>\n",
       "      <td>65</td>\n",
       "    </tr>\n",
       "    <tr>\n",
       "      <th>2</th>\n",
       "      <td>9185164487</td>\n",
       "      <td>741341</td>\n",
       "      <td>2</td>\n",
       "      <td>923.84</td>\n",
       "      <td>45477575</td>\n",
       "      <td>2024-09-23 13:07:12</td>\n",
       "      <td>2024-09-23 13:25:12</td>\n",
       "      <td>2024-09-23 13:29:12</td>\n",
       "      <td>On Time</td>\n",
       "      <td>839.05</td>\n",
       "      <td>...</td>\n",
       "      <td>9886</td>\n",
       "      <td>Eggs</td>\n",
       "      <td>Dairy &amp; Breakfast</td>\n",
       "      <td>Prasad LLC</td>\n",
       "      <td>923.84</td>\n",
       "      <td>1154.80</td>\n",
       "      <td>20.0</td>\n",
       "      <td>7</td>\n",
       "      <td>13</td>\n",
       "      <td>62</td>\n",
       "    </tr>\n",
       "    <tr>\n",
       "      <th>3</th>\n",
       "      <td>9644738826</td>\n",
       "      <td>561860</td>\n",
       "      <td>1</td>\n",
       "      <td>874.78</td>\n",
       "      <td>88067569</td>\n",
       "      <td>2023-11-24 16:16:56</td>\n",
       "      <td>2023-11-24 16:34:56</td>\n",
       "      <td>2023-11-24 16:33:56</td>\n",
       "      <td>On Time</td>\n",
       "      <td>440.23</td>\n",
       "      <td>...</td>\n",
       "      <td>7917</td>\n",
       "      <td>Orange Juice</td>\n",
       "      <td>Cold Drinks &amp; Juices</td>\n",
       "      <td>Gupta Ltd</td>\n",
       "      <td>874.78</td>\n",
       "      <td>1249.69</td>\n",
       "      <td>30.0</td>\n",
       "      <td>180</td>\n",
       "      <td>21</td>\n",
       "      <td>90</td>\n",
       "    </tr>\n",
       "    <tr>\n",
       "      <th>4</th>\n",
       "      <td>5427684290</td>\n",
       "      <td>602241</td>\n",
       "      <td>2</td>\n",
       "      <td>976.55</td>\n",
       "      <td>83298567</td>\n",
       "      <td>2023-11-20 05:00:39</td>\n",
       "      <td>2023-11-20 05:17:39</td>\n",
       "      <td>2023-11-20 05:18:39</td>\n",
       "      <td>On Time</td>\n",
       "      <td>2526.68</td>\n",
       "      <td>...</td>\n",
       "      <td>2741</td>\n",
       "      <td>Nuts</td>\n",
       "      <td>Snacks &amp; Munchies</td>\n",
       "      <td>Bahl-Pau</td>\n",
       "      <td>976.55</td>\n",
       "      <td>1502.38</td>\n",
       "      <td>35.0</td>\n",
       "      <td>90</td>\n",
       "      <td>12</td>\n",
       "      <td>75</td>\n",
       "    </tr>\n",
       "  </tbody>\n",
       "</table>\n",
       "<p>5 rows × 22 columns</p>\n",
       "</div>"
      ],
      "text/plain": [
       "     order_id  product_id  quantity  unit_price  customer_id  \\\n",
       "0  1961864118      642612         3      517.03     30065862   \n",
       "1  1549769649      378676         1      881.42      9573071   \n",
       "2  9185164487      741341         2      923.84     45477575   \n",
       "3  9644738826      561860         1      874.78     88067569   \n",
       "4  5427684290      602241         2      976.55     83298567   \n",
       "\n",
       "            order_date promised_delivery_time actual_delivery_time  \\\n",
       "0  2024-07-17 08:34:01    2024-07-17 08:52:01  2024-07-17 08:47:01   \n",
       "1  2024-05-28 13:14:29    2024-05-28 13:25:29  2024-05-28 13:27:29   \n",
       "2  2024-09-23 13:07:12    2024-09-23 13:25:12  2024-09-23 13:29:12   \n",
       "3  2023-11-24 16:16:56    2023-11-24 16:34:56  2023-11-24 16:33:56   \n",
       "4  2023-11-20 05:00:39    2023-11-20 05:17:39  2023-11-20 05:18:39   \n",
       "\n",
       "  delivery_status  order_total  ... store_id  product_name  \\\n",
       "0         On Time      3197.07  ...     4771    Pet Treats   \n",
       "1         On Time       976.55  ...     7534  Orange Juice   \n",
       "2         On Time       839.05  ...     9886          Eggs   \n",
       "3         On Time       440.23  ...     7917  Orange Juice   \n",
       "4         On Time      2526.68  ...     2741          Nuts   \n",
       "\n",
       "               category         brand   price      mrp  margin_percentage  \\\n",
       "0              Pet Care  Pillay-Ahuja  517.03   795.43               35.0   \n",
       "1  Cold Drinks & Juices  Baral-Kamdar  881.42  1259.17               30.0   \n",
       "2     Dairy & Breakfast    Prasad LLC  923.84  1154.80               20.0   \n",
       "3  Cold Drinks & Juices     Gupta Ltd  874.78  1249.69               30.0   \n",
       "4     Snacks & Munchies      Bahl-Pau  976.55  1502.38               35.0   \n",
       "\n",
       "   shelf_life_days  min_stock_level  max_stock_level  \n",
       "0              365               16               57  \n",
       "1              180               19               65  \n",
       "2                7               13               62  \n",
       "3              180               21               90  \n",
       "4               90               12               75  \n",
       "\n",
       "[5 rows x 22 columns]"
      ]
     },
     "execution_count": 5,
     "metadata": {},
     "output_type": "execute_result"
    }
   ],
   "source": [
    "df = pd.read_csv('../data/merged_orders_products.csv')\n",
    "feedback = pd.read_csv('../data/blinkit_customer_feedback.csv')\n",
    "\n",
    "print('Merged orders + products data')\n",
    "df.head()"
   ]
  },
  {
   "cell_type": "code",
   "execution_count": 7,
   "id": "cb26bb6b-5756-4e1b-b522-e3f8f689c01b",
   "metadata": {},
   "outputs": [
    {
     "data": {
      "text/html": [
       "<div>\n",
       "<style scoped>\n",
       "    .dataframe tbody tr th:only-of-type {\n",
       "        vertical-align: middle;\n",
       "    }\n",
       "\n",
       "    .dataframe tbody tr th {\n",
       "        vertical-align: top;\n",
       "    }\n",
       "\n",
       "    .dataframe thead th {\n",
       "        text-align: right;\n",
       "    }\n",
       "</style>\n",
       "<table border=\"1\" class=\"dataframe\">\n",
       "  <thead>\n",
       "    <tr style=\"text-align: right;\">\n",
       "      <th></th>\n",
       "      <th>feedback_id</th>\n",
       "      <th>order_id</th>\n",
       "      <th>customer_id</th>\n",
       "      <th>rating</th>\n",
       "      <th>feedback_text</th>\n",
       "      <th>feedback_category</th>\n",
       "      <th>sentiment</th>\n",
       "      <th>feedback_date</th>\n",
       "    </tr>\n",
       "  </thead>\n",
       "  <tbody>\n",
       "    <tr>\n",
       "      <th>0</th>\n",
       "      <td>2234710</td>\n",
       "      <td>1961864118</td>\n",
       "      <td>30065862</td>\n",
       "      <td>4</td>\n",
       "      <td>It was okay, nothing special.</td>\n",
       "      <td>Delivery</td>\n",
       "      <td>Neutral</td>\n",
       "      <td>2024-07-17</td>\n",
       "    </tr>\n",
       "    <tr>\n",
       "      <th>1</th>\n",
       "      <td>5450964</td>\n",
       "      <td>1549769649</td>\n",
       "      <td>9573071</td>\n",
       "      <td>3</td>\n",
       "      <td>The order was incorrect.</td>\n",
       "      <td>App Experience</td>\n",
       "      <td>Negative</td>\n",
       "      <td>2024-05-28</td>\n",
       "    </tr>\n",
       "    <tr>\n",
       "      <th>2</th>\n",
       "      <td>482108</td>\n",
       "      <td>9185164487</td>\n",
       "      <td>45477575</td>\n",
       "      <td>3</td>\n",
       "      <td>It was okay, nothing special.</td>\n",
       "      <td>App Experience</td>\n",
       "      <td>Neutral</td>\n",
       "      <td>2024-09-23</td>\n",
       "    </tr>\n",
       "    <tr>\n",
       "      <th>3</th>\n",
       "      <td>4823104</td>\n",
       "      <td>9644738826</td>\n",
       "      <td>88067569</td>\n",
       "      <td>4</td>\n",
       "      <td>The product met my expectations.</td>\n",
       "      <td>App Experience</td>\n",
       "      <td>Neutral</td>\n",
       "      <td>2023-11-24</td>\n",
       "    </tr>\n",
       "    <tr>\n",
       "      <th>4</th>\n",
       "      <td>3537464</td>\n",
       "      <td>5427684290</td>\n",
       "      <td>83298567</td>\n",
       "      <td>3</td>\n",
       "      <td>Product was damaged during delivery.</td>\n",
       "      <td>Delivery</td>\n",
       "      <td>Negative</td>\n",
       "      <td>2023-11-20</td>\n",
       "    </tr>\n",
       "  </tbody>\n",
       "</table>\n",
       "</div>"
      ],
      "text/plain": [
       "   feedback_id    order_id  customer_id  rating  \\\n",
       "0      2234710  1961864118     30065862       4   \n",
       "1      5450964  1549769649      9573071       3   \n",
       "2       482108  9185164487     45477575       3   \n",
       "3      4823104  9644738826     88067569       4   \n",
       "4      3537464  5427684290     83298567       3   \n",
       "\n",
       "                          feedback_text feedback_category sentiment  \\\n",
       "0         It was okay, nothing special.          Delivery   Neutral   \n",
       "1              The order was incorrect.    App Experience  Negative   \n",
       "2         It was okay, nothing special.    App Experience   Neutral   \n",
       "3      The product met my expectations.    App Experience   Neutral   \n",
       "4  Product was damaged during delivery.          Delivery  Negative   \n",
       "\n",
       "  feedback_date  \n",
       "0    2024-07-17  \n",
       "1    2024-05-28  \n",
       "2    2024-09-23  \n",
       "3    2023-11-24  \n",
       "4    2023-11-20  "
      ]
     },
     "execution_count": 7,
     "metadata": {},
     "output_type": "execute_result"
    }
   ],
   "source": [
    "feedback.head()"
   ]
  },
  {
   "cell_type": "markdown",
   "id": "b282ec0b-0eaf-4f26-a979-3d883b3b25a9",
   "metadata": {},
   "source": [
    "Rating-Based Recommendation"
   ]
  },
  {
   "cell_type": "code",
   "execution_count": 11,
   "id": "fac967aa-d2b7-4cac-aa5f-f433038c050c",
   "metadata": {},
   "outputs": [],
   "source": [
    "#merge feedback with product level data\n",
    "df_feedback = feedback.merge(df,on=['order_id','customer_id'],how='inner')"
   ]
  },
  {
   "cell_type": "code",
   "execution_count": 13,
   "id": "8ddde2de-2993-4cda-8486-8346cdc3cb41",
   "metadata": {},
   "outputs": [],
   "source": [
    "#droping missing product names\n",
    "df_feedback = df_feedback.dropna(subset=[\"product_name\"])"
   ]
  },
  {
   "cell_type": "code",
   "execution_count": 15,
   "id": "03ebfc07-54c7-4c6f-9eff-374ce0665667",
   "metadata": {},
   "outputs": [],
   "source": [
    "#Average rating per product\n",
    "product_ratings = df_feedback.groupby(\"product_name\")[\"rating\"].mean().sort_values(ascending=False)"
   ]
  },
  {
   "cell_type": "code",
   "execution_count": 17,
   "id": "b8e8207b-be26-41bd-a174-f1ad362f247c",
   "metadata": {},
   "outputs": [],
   "source": [
    "#Count of ratings per product (to filter out low-volume ratings)\n",
    "rating_counts = df_feedback.groupby(\"product_name\")[\"rating\"].count()"
   ]
  },
  {
   "cell_type": "code",
   "execution_count": 19,
   "id": "7b3adcd5-2789-4540-81b8-7b84b59dd873",
   "metadata": {},
   "outputs": [],
   "source": [
    "def recommend_top_rated_products(min_reviews=10, top_n=5):\n",
    "    popular_products = rating_counts[rating_counts >= min_reviews].index\n",
    "    filtered_ratings = product_ratings.loc[popular_products]\n",
    "    return filtered_ratings.head(top_n)"
   ]
  },
  {
   "cell_type": "code",
   "execution_count": 21,
   "id": "89634d18-8720-40e9-9e64-1b33fc463c55",
   "metadata": {},
   "outputs": [
    {
     "data": {
      "text/plain": [
       "product_name\n",
       "Baby Food     3.321739\n",
       "Baby Wipes    3.267045\n",
       "Bananas       3.111111\n",
       "Biscuits      3.463415\n",
       "Bread         3.222222\n",
       "Name: rating, dtype: float64"
      ]
     },
     "execution_count": 21,
     "metadata": {},
     "output_type": "execute_result"
    }
   ],
   "source": [
    "recommend_top_rated_products()"
   ]
  },
  {
   "cell_type": "markdown",
   "id": "cced47f5-11d8-4e47-8891-0ececc855d52",
   "metadata": {},
   "source": []
  },
  {
   "cell_type": "markdown",
   "id": "7cdbe517-ff21-4f3d-b0d3-600e3d8e92a2",
   "metadata": {},
   "source": [
    "Personalized: Rated Products Not Yet Bought"
   ]
  },
  {
   "cell_type": "code",
   "execution_count": 23,
   "id": "d7fe059a-75a0-4b58-ba9a-519a2de22699",
   "metadata": {},
   "outputs": [],
   "source": [
    "def recommend_rated_not_bought(customer_id, min_reviews=10, top_n=5):\n",
    "    bought = set(df[df[\"customer_id\"] == customer_id][\"product_name\"])\n",
    "    popular_products = rating_counts[rating_counts >= min_reviews].index\n",
    "    top_products = product_ratings.loc[popular_products]\n",
    "    \n",
    "    not_bought = top_products[~top_products.index.isin(bought)]\n",
    "    return not_bought.head(top_n)"
   ]
  },
  {
   "cell_type": "code",
   "execution_count": 25,
   "id": "9c22efae-d381-47d6-b340-c9105ea26606",
   "metadata": {},
   "outputs": [
    {
     "name": "stdout",
     "output_type": "stream",
     "text": [
      "🛍️ Rated Recommendations for Customer 30065862:\n",
      "product_name\n",
      "Baby Food     3.321739\n",
      "Baby Wipes    3.267045\n",
      "Bananas       3.111111\n",
      "Biscuits      3.463415\n",
      "Bread         3.222222\n",
      "Name: rating, dtype: float64\n"
     ]
    }
   ],
   "source": [
    "#Try for sample customer\n",
    "sample_customer = df[\"customer_id\"].unique()[0]\n",
    "print(f\"🛍️ Rated Recommendations for Customer {sample_customer}:\")\n",
    "print(recommend_rated_not_bought(sample_customer))"
   ]
  },
  {
   "cell_type": "markdown",
   "id": "4860a3da-d6d6-430f-ae99-7da5599b25c8",
   "metadata": {},
   "source": []
  },
  {
   "cell_type": "markdown",
   "id": "57c32359-47b2-4504-9af9-d306ee3d1c00",
   "metadata": {},
   "source": [
    "Recommend New Arrivals to Active Users"
   ]
  },
  {
   "cell_type": "code",
   "execution_count": 35,
   "id": "82a4c59c-d31f-4850-ad68-5a6ce74c7408",
   "metadata": {},
   "outputs": [
    {
     "data": {
      "text/html": [
       "<div>\n",
       "<style scoped>\n",
       "    .dataframe tbody tr th:only-of-type {\n",
       "        vertical-align: middle;\n",
       "    }\n",
       "\n",
       "    .dataframe tbody tr th {\n",
       "        vertical-align: top;\n",
       "    }\n",
       "\n",
       "    .dataframe thead th {\n",
       "        text-align: right;\n",
       "    }\n",
       "</style>\n",
       "<table border=\"1\" class=\"dataframe\">\n",
       "  <thead>\n",
       "    <tr style=\"text-align: right;\">\n",
       "      <th></th>\n",
       "      <th>num_orders</th>\n",
       "      <th>days_since_last_order</th>\n",
       "      <th>recency_score</th>\n",
       "      <th>activity_score</th>\n",
       "    </tr>\n",
       "    <tr>\n",
       "      <th>customer_id</th>\n",
       "      <th></th>\n",
       "      <th></th>\n",
       "      <th></th>\n",
       "      <th></th>\n",
       "    </tr>\n",
       "  </thead>\n",
       "  <tbody>\n",
       "    <tr>\n",
       "      <th>77869660</th>\n",
       "      <td>9</td>\n",
       "      <td>57</td>\n",
       "      <td>0.017241</td>\n",
       "      <td>9.017241</td>\n",
       "    </tr>\n",
       "    <tr>\n",
       "      <th>8791577</th>\n",
       "      <td>8</td>\n",
       "      <td>21</td>\n",
       "      <td>0.045455</td>\n",
       "      <td>8.045455</td>\n",
       "    </tr>\n",
       "    <tr>\n",
       "      <th>17805991</th>\n",
       "      <td>8</td>\n",
       "      <td>46</td>\n",
       "      <td>0.021277</td>\n",
       "      <td>8.021277</td>\n",
       "    </tr>\n",
       "    <tr>\n",
       "      <th>10562528</th>\n",
       "      <td>7</td>\n",
       "      <td>19</td>\n",
       "      <td>0.050000</td>\n",
       "      <td>7.050000</td>\n",
       "    </tr>\n",
       "    <tr>\n",
       "      <th>75213636</th>\n",
       "      <td>7</td>\n",
       "      <td>24</td>\n",
       "      <td>0.040000</td>\n",
       "      <td>7.040000</td>\n",
       "    </tr>\n",
       "  </tbody>\n",
       "</table>\n",
       "</div>"
      ],
      "text/plain": [
       "             num_orders  days_since_last_order  recency_score  activity_score\n",
       "customer_id                                                                  \n",
       "77869660              9                     57       0.017241        9.017241\n",
       "8791577               8                     21       0.045455        8.045455\n",
       "17805991              8                     46       0.021277        8.021277\n",
       "10562528              7                     19       0.050000        7.050000\n",
       "75213636              7                     24       0.040000        7.040000"
      ]
     },
     "execution_count": 35,
     "metadata": {},
     "output_type": "execute_result"
    }
   ],
   "source": [
    "# Convert date column\n",
    "df['order_date'] = pd.to_datetime(df['order_date'])\n",
    "\n",
    "# Most recent date in dataset\n",
    "recent_date = df['order_date'].max()\n",
    "\n",
    "# Build activity metrics\n",
    "user_activity = df.groupby('customer_id').agg({\n",
    "    'order_id': 'nunique',\n",
    "    'order_date': lambda x: (recent_date - x.max()).days\n",
    "}).rename(columns={'order_id': 'num_orders', 'order_date': 'days_since_last_order'})\n",
    "\n",
    "#  Recency score = lower days → higher score\n",
    "user_activity['recency_score'] = 1 / (1 + user_activity['days_since_last_order'])\n",
    "\n",
    "# Combine score: order frequency + recency\n",
    "user_activity['activity_score'] = user_activity['num_orders'] + user_activity['recency_score']\n",
    "\n",
    "# Preview\n",
    "user_activity.sort_values('activity_score', ascending=False).head()\n"
   ]
  },
  {
   "cell_type": "code",
   "execution_count": 37,
   "id": "3c2bbe82-3a45-4b2a-9eae-fbc86845f873",
   "metadata": {},
   "outputs": [],
   "source": [
    "product_launch_dates = df.groupby('product_name')['order_date'].min().sort_values(ascending=False)"
   ]
  },
  {
   "cell_type": "code",
   "execution_count": 41,
   "id": "039027d2-aadc-45d6-a22d-f5d2c5142fd8",
   "metadata": {},
   "outputs": [],
   "source": [
    "top_5_percent = int(0.05*len(product_launch_dates))\n",
    "new_arrivals = product_launch_dates.head(top_5_percent).index.tolist()"
   ]
  },
  {
   "cell_type": "code",
   "execution_count": 43,
   "id": "fa1b334c-b182-4ad3-b6f9-94248cd6c2ef",
   "metadata": {},
   "outputs": [
    {
     "data": {
      "text/plain": [
       "['Iced Tea', 'Cereal']"
      ]
     },
     "execution_count": 43,
     "metadata": {},
     "output_type": "execute_result"
    }
   ],
   "source": [
    "new_arrivals[:5]"
   ]
  },
  {
   "cell_type": "code",
   "execution_count": 45,
   "id": "737d4f6b-4dc0-41f1-8c23-a2e453b28a04",
   "metadata": {},
   "outputs": [],
   "source": [
    "def recommend_new_arrivals_to_active_users(top_n_users=10, top_n_products=5):\n",
    "    top_users = user_activity.sort_values('activity_score', ascending=False).head(top_n_users).index\n",
    "    recommendations = {}\n",
    "    \n",
    "    for uid in top_users:\n",
    "        bought = set(df[df['customer_id'] == uid]['product_name'])\n",
    "        not_bought = [prod for prod in new_arrivals if prod not in bought]\n",
    "        recommendations[uid] = not_bought[:top_n_products]\n",
    "    \n",
    "    return recommendations"
   ]
  },
  {
   "cell_type": "code",
   "execution_count": 47,
   "id": "718bd96d-92b4-4524-a4f4-d1980f85d0ca",
   "metadata": {},
   "outputs": [],
   "source": [
    "new_arrival_recs = recommend_new_arrivals_to_active_users()"
   ]
  },
  {
   "cell_type": "code",
   "execution_count": 51,
   "id": "401a0bae-f888-4f1a-9916-243b3e72a076",
   "metadata": {},
   "outputs": [
    {
     "name": "stdout",
     "output_type": "stream",
     "text": [
      "🆕 New Arrival Recommendations for Active Users:\n",
      "\n",
      "Customer 77869660: ['Cereal']\n",
      "Customer 8791577: ['Iced Tea', 'Cereal']\n",
      "Customer 17805991: ['Iced Tea', 'Cereal']\n",
      "Customer 10562528: ['Iced Tea', 'Cereal']\n",
      "Customer 75213636: ['Iced Tea', 'Cereal']\n",
      "Customer 12832151: ['Iced Tea', 'Cereal']\n",
      "Customer 26285589: ['Cereal']\n",
      "Customer 21701991: ['Iced Tea', 'Cereal']\n",
      "Customer 93018527: ['Iced Tea', 'Cereal']\n",
      "Customer 13604883: ['Iced Tea', 'Cereal']\n"
     ]
    }
   ],
   "source": [
    "print(\"🆕 New Arrival Recommendations for Active Users:\\n\")\n",
    "for user, products in new_arrival_recs.items():\n",
    "    print(f\"Customer {user}: {products}\")"
   ]
  }
 ],
 "metadata": {
  "kernelspec": {
   "display_name": "Python 3 (ipykernel)",
   "language": "python",
   "name": "python3"
  },
  "language_info": {
   "codemirror_mode": {
    "name": "ipython",
    "version": 3
   },
   "file_extension": ".py",
   "mimetype": "text/x-python",
   "name": "python",
   "nbconvert_exporter": "python",
   "pygments_lexer": "ipython3",
   "version": "3.12.7"
  }
 },
 "nbformat": 4,
 "nbformat_minor": 5
}
